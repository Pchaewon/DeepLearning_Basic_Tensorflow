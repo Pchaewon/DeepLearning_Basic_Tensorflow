{
  "nbformat": 4,
  "nbformat_minor": 0,
  "metadata": {
    "colab": {
      "name": "Binary_CLS_Tensorflow.ipynb",
      "provenance": []
    },
    "kernelspec": {
      "name": "python3",
      "display_name": "Python 3"
    },
    "language_info": {
      "name": "python"
    }
  },
  "cells": [
    {
      "cell_type": "markdown",
      "source": [
        "### 1. 라이브러리 불러오기"
      ],
      "metadata": {
        "id": "YuGNcTbqGPnU"
      }
    },
    {
      "cell_type": "code",
      "execution_count": 1,
      "metadata": {
        "id": "9tqpJ1HgGF7k"
      },
      "outputs": [],
      "source": [
        "import numpy as np\n",
        "import pandas as pd\n",
        "import tensorflow as tf\n",
        "from tensorflow.keras.models import Sequential\n",
        "from tensorflow.keras.layers import Dense\n",
        "from tensorflow.keras.optimizers import RMSprop\n",
        "from tensorflow.keras.losses import mse"
      ]
    },
    {
      "cell_type": "markdown",
      "source": [
        "### 2. 데이터 준비하기"
      ],
      "metadata": {
        "id": "fsjvc3onGS_p"
      }
    },
    {
      "cell_type": "code",
      "source": [
        "train = pd.read_csv('./pulsar_stars_train.csv', header=None, skiprows=1)\n",
        "test = pd.read_csv('./pulsar_stars_test.csv', header=None, skiprows=1)\n",
        "\n",
        "\n",
        "input_cnt, output_cnt = 8, 1\n",
        "train_df = np.asarray(train)\n",
        "test_df = np.asarray(test)"
      ],
      "metadata": {
        "id": "jaQrDALcGVJS"
      },
      "execution_count": 2,
      "outputs": []
    },
    {
      "cell_type": "markdown",
      "source": [
        "### 3. 데이터 변형"
      ],
      "metadata": {
        "id": "nK3VDzfkGVb3"
      }
    },
    {
      "cell_type": "code",
      "source": [
        "train_df.astype('float')\n",
        "test_df.astype('float')\n",
        "\n",
        "train_data_len = train_df.shape[0]\n",
        "train_X = train_df[:, 0:-1]\n",
        "train_y = train_df[:, [-1]]\n",
        "\n",
        "test_data_len = test_df.shape[0]\n",
        "test_X = test_df[:, 0:-1] \n",
        "test_y = test_df[:, [-1]] "
      ],
      "metadata": {
        "id": "LH6oIhO0GX_k"
      },
      "execution_count": 3,
      "outputs": []
    },
    {
      "cell_type": "markdown",
      "source": [
        "### 4. 모델 구성"
      ],
      "metadata": {
        "id": "f23RPUYYGYdb"
      }
    },
    {
      "cell_type": "code",
      "source": [
        "model = Sequential([\n",
        "          Dense(15, input_shape = (input_cnt, ), activation = 'relu'),          \n",
        "          Dense(output_cnt, activation = 'sigmoid')\n",
        "])"
      ],
      "metadata": {
        "id": "72XEkD98GaKu"
      },
      "execution_count": 4,
      "outputs": []
    },
    {
      "cell_type": "markdown",
      "source": [
        "### 5. 모델 준비"
      ],
      "metadata": {
        "id": "2v9xV4bBHTH9"
      }
    },
    {
      "cell_type": "code",
      "source": [
        "model.compile(optimizer = RMSprop(learning_rate=0.01), loss = 'binary_crossentropy', metrics = 'acc')"
      ],
      "metadata": {
        "id": "jJjTrqgpHZ3f"
      },
      "execution_count": 5,
      "outputs": []
    },
    {
      "cell_type": "markdown",
      "source": [
        "### 6. 학습"
      ],
      "metadata": {
        "id": "Lqe-Zz4OGa97"
      }
    },
    {
      "cell_type": "code",
      "source": [
        "model.fit(train_X, train_y, batch_size = 1, epochs = 20)"
      ],
      "metadata": {
        "colab": {
          "base_uri": "https://localhost:8080/"
        },
        "id": "ztupp-tmGcjj",
        "outputId": "c87e4926-ec25-4d6a-d49d-f419f5d84fe1"
      },
      "execution_count": 6,
      "outputs": [
        {
          "output_type": "stream",
          "name": "stdout",
          "text": [
            "Epoch 1/20\n",
            "14499/14499 [==============================] - 34s 2ms/step - loss: 0.3655 - acc: 0.9637\n",
            "Epoch 2/20\n",
            "14499/14499 [==============================] - 19s 1ms/step - loss: 0.3836 - acc: 0.9663\n",
            "Epoch 3/20\n",
            "14499/14499 [==============================] - 20s 1ms/step - loss: 0.3798 - acc: 0.9701\n",
            "Epoch 4/20\n",
            "14499/14499 [==============================] - 20s 1ms/step - loss: 0.4354 - acc: 0.9689\n",
            "Epoch 5/20\n",
            "14499/14499 [==============================] - 20s 1ms/step - loss: 0.4592 - acc: 0.9698\n",
            "Epoch 6/20\n",
            "14499/14499 [==============================] - 20s 1ms/step - loss: 0.4329 - acc: 0.9687\n",
            "Epoch 7/20\n",
            "14499/14499 [==============================] - 19s 1ms/step - loss: 0.4710 - acc: 0.9699\n",
            "Epoch 8/20\n",
            "14499/14499 [==============================] - 19s 1ms/step - loss: 0.4528 - acc: 0.9701\n",
            "Epoch 9/20\n",
            "14499/14499 [==============================] - 19s 1ms/step - loss: 0.4405 - acc: 0.9701\n",
            "Epoch 10/20\n",
            "14499/14499 [==============================] - 20s 1ms/step - loss: 0.5318 - acc: 0.9711\n",
            "Epoch 11/20\n",
            "14499/14499 [==============================] - 21s 1ms/step - loss: 0.4729 - acc: 0.9709\n",
            "Epoch 12/20\n",
            "14499/14499 [==============================] - 20s 1ms/step - loss: 0.4810 - acc: 0.9705\n",
            "Epoch 13/20\n",
            "14499/14499 [==============================] - 19s 1ms/step - loss: 0.6146 - acc: 0.9706\n",
            "Epoch 14/20\n",
            "14499/14499 [==============================] - 19s 1ms/step - loss: 0.5668 - acc: 0.9699\n",
            "Epoch 15/20\n",
            "14499/14499 [==============================] - 20s 1ms/step - loss: 0.6925 - acc: 0.9703\n",
            "Epoch 16/20\n",
            "14499/14499 [==============================] - 19s 1ms/step - loss: 0.6711 - acc: 0.9702\n",
            "Epoch 17/20\n",
            "14499/14499 [==============================] - 20s 1ms/step - loss: 0.6379 - acc: 0.9709\n",
            "Epoch 18/20\n",
            "14499/14499 [==============================] - 19s 1ms/step - loss: 0.6046 - acc: 0.9686\n",
            "Epoch 19/20\n",
            "14499/14499 [==============================] - 20s 1ms/step - loss: 0.5862 - acc: 0.9703\n",
            "Epoch 20/20\n",
            "14499/14499 [==============================] - 19s 1ms/step - loss: 0.5983 - acc: 0.9713\n"
          ]
        },
        {
          "output_type": "execute_result",
          "data": {
            "text/plain": [
              "<keras.callbacks.History at 0x7feb0f3ed5d0>"
            ]
          },
          "metadata": {},
          "execution_count": 6
        }
      ]
    },
    {
      "cell_type": "markdown",
      "source": [
        "### 7. 테스트를 통한 검증"
      ],
      "metadata": {
        "id": "_VVm3wdFGdkl"
      }
    },
    {
      "cell_type": "code",
      "source": [
        "test_pred = model(test_X)\n",
        "est = np.greater(test_pred, 0.5)\n",
        "ans = np.greater(test_y, 0.5)\n",
        "cor = np.equal(est, ans)\n",
        "print(np.mean(cor))"
      ],
      "metadata": {
        "colab": {
          "base_uri": "https://localhost:8080/"
        },
        "id": "gG0dBGp6Gfyb",
        "outputId": "8e4ad1be-632b-4217-bed1-ab511fb48c69"
      },
      "execution_count": 7,
      "outputs": [
        {
          "output_type": "stream",
          "name": "stdout",
          "text": [
            "0.9644012944983819\n"
          ]
        }
      ]
    }
  ]
}