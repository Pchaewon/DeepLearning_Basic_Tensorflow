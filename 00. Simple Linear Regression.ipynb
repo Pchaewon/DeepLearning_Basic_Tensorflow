{
 "cells": [
  {
   "cell_type": "markdown",
   "id": "33458477",
   "metadata": {},
   "source": [
    "## Build Hypothesis and Cost\n",
    "##### H(x)=Wx+b"
   ]
  },
  {
   "cell_type": "code",
   "execution_count": 1,
   "id": "73a8117e",
   "metadata": {},
   "outputs": [],
   "source": [
    "import tensorflow as tf\n",
    "\n",
    "x_data = [1,2,3,4,5] #input\n",
    "y_data = [1,2,3,4,5] #output\n",
    "\n",
    "# 초기값은 랜덤 값으로 부여\n",
    "W = tf.Variable(2.9) #weight\n",
    "b = tf.Variable(0.5) #bias\n",
    "\n",
    "# hypothesis = W * x + b\n",
    "hypothesis = W*x_data+b"
   ]
  },
  {
   "cell_type": "markdown",
   "id": "40564521",
   "metadata": {},
   "source": [
    "##### cost(W,b) = (1/m)(∑(H(x_i)-y_i)^2)"
   ]
  },
  {
   "cell_type": "code",
   "execution_count": 2,
   "id": "1a3168b1",
   "metadata": {},
   "outputs": [],
   "source": [
    "cost = tf.reduce_mean(tf.square(hypothesis-y_data))"
   ]
  },
  {
   "cell_type": "markdown",
   "id": "ab09c8a0",
   "metadata": {},
   "source": [
    "> tf.reduce_mean() <br><br>\n",
    "> 여기서 reduce는 맵리듀스의 리듀스! <br>\n",
    "> 랭크가 줄어들면서 평균을 구한다."
   ]
  },
  {
   "cell_type": "code",
   "execution_count": 3,
   "id": "7c168611",
   "metadata": {},
   "outputs": [
    {
     "data": {
      "text/plain": [
       "<tf.Tensor: id=31, shape=(), dtype=float32, numpy=2.5>"
      ]
     },
     "execution_count": 3,
     "metadata": {},
     "output_type": "execute_result"
    }
   ],
   "source": [
    "v = [1., 2., 3., 4.] #1차원\n",
    "tf.reduce_mean(v) #0차원 #2.5"
   ]
  },
  {
   "cell_type": "markdown",
   "id": "c4d4ecf7",
   "metadata": {},
   "source": [
    "> tf.square() <br>"
   ]
  },
  {
   "cell_type": "code",
   "execution_count": 4,
   "id": "38aa10c1",
   "metadata": {},
   "outputs": [
    {
     "data": {
      "text/plain": [
       "<tf.Tensor: id=33, shape=(), dtype=int32, numpy=9>"
      ]
     },
     "execution_count": 4,
     "metadata": {},
     "output_type": "execute_result"
    }
   ],
   "source": [
    "tf.square(3) # 9"
   ]
  },
  {
   "cell_type": "markdown",
   "id": "918846d6",
   "metadata": {},
   "source": [
    "## Gradient descent\n",
    "##### minimize cost(W,b)\n",
    "> 1. A.assign_sub(B) <br>\n",
    "> A = A - B <br>\n",
    "> A -= B<br>\n",
    "> 뺀 값을 다시 그 값에 할당해준다.<br>\n",
    "\n",
    "> 2. learning_rate <br>\n",
    "> gradient값을 얼마만큼 반영할 것인지를 결정."
   ]
  },
  {
   "cell_type": "code",
   "execution_count": 6,
   "id": "a9045f25",
   "metadata": {},
   "outputs": [
    {
     "name": "stdout",
     "output_type": "stream",
     "text": [
      "    0|      2.11|    0.2814| 26.608438\n",
      "   10|     1.081| -0.002888|  0.120284\n",
      "   20|     1.011|  -0.02127|  0.000637\n",
      "   30|     1.006|   -0.0218|  0.000090\n",
      "   40|     1.006|  -0.02116|  0.000082\n",
      "   50|     1.006|  -0.02046|  0.000077\n",
      "   60|     1.005|  -0.01978|  0.000072\n",
      "   70|     1.005|  -0.01912|  0.000067\n",
      "   80|     1.005|  -0.01848|  0.000063\n",
      "   90|     1.005|  -0.01787|  0.000058\n"
     ]
    }
   ],
   "source": [
    "#learning_rate initialize\n",
    "learning_rate = 0.01\n",
    "\n",
    "for i in range(100):\n",
    "#Gradient descent : 여러차례에 걸쳐 W와 b를 업데이트\n",
    "    # W,b변수들에 대한 정보를 tape에 기록하고 \n",
    "    with tf.GradientTape() as tape:\n",
    "        hypothesis = W*x_data+b\n",
    "        cost=tf.reduce_mean(tf.square(hypothesis-y_data))\n",
    "\n",
    "    #이후에 tape.gradient 메서드를 호출해서 경사도값, 미분값을 구한다.\n",
    "    W_grad, b_grad = tape.gradient(cost, [W, b])\n",
    "\n",
    "    #W, b값을 업데이트 해준다.\n",
    "    W.assign_sub(learning_rate*W_grad)\n",
    "    b.assign_sub(learning_rate*b_grad)\n",
    "\n",
    "    #i값이 10의 배수가 될 때마다 출력\n",
    "    if i%10==0:\n",
    "        print(\"{:5}|{:10.4}|{:10.4}|{:10.6f}\".format(i, W.numpy(), b.numpy(),cost))"
   ]
  },
  {
   "cell_type": "code",
   "execution_count": 7,
   "id": "52113813",
   "metadata": {},
   "outputs": [
    {
     "name": "stdout",
     "output_type": "stream",
     "text": [
      "tf.Tensor(5.00667, shape=(), dtype=float32)\n",
      "tf.Tensor(2.4946702, shape=(), dtype=float32)\n"
     ]
    }
   ],
   "source": [
    "#새로운 데이터로 확인하기\n",
    "print(W*5+b)\n",
    "print(W*2.5+b)"
   ]
  }
 ],
 "metadata": {
  "kernelspec": {
   "display_name": "Python 3 (ipykernel)",
   "language": "python",
   "name": "python3"
  },
  "language_info": {
   "codemirror_mode": {
    "name": "ipython",
    "version": 3
   },
   "file_extension": ".py",
   "mimetype": "text/x-python",
   "name": "python",
   "nbconvert_exporter": "python",
   "pygments_lexer": "ipython3",
   "version": "3.7.11"
  }
 },
 "nbformat": 4,
 "nbformat_minor": 5
}
