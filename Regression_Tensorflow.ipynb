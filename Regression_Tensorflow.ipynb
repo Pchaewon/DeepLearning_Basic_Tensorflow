{
  "nbformat": 4,
  "nbformat_minor": 0,
  "metadata": {
    "colab": {
      "name": "Regression_Tensorflow.ipynb",
      "provenance": [],
      "collapsed_sections": []
    },
    "kernelspec": {
      "name": "python3",
      "display_name": "Python 3"
    },
    "language_info": {
      "name": "python"
    }
  },
  "cells": [
    {
      "cell_type": "markdown",
      "source": [
        "### 1. 라이브러리 불러오기"
      ],
      "metadata": {
        "id": "8HAo-bRX9uFt"
      }
    },
    {
      "cell_type": "code",
      "execution_count": null,
      "metadata": {
        "id": "-_dcFciE9bGy"
      },
      "outputs": [],
      "source": [
        "import numpy as np\n",
        "import tensorflow as tf\n",
        "from tensorflow.keras.models import Sequential\n",
        "from tensorflow.keras.layers import Dense\n",
        "from tensorflow.keras.optimizers import RMSprop\n",
        "from tensorflow.keras.losses import mse\n",
        "import pandas as pd"
      ]
    },
    {
      "cell_type": "markdown",
      "source": [
        "### 2. 데이터 준비하기"
      ],
      "metadata": {
        "id": "ZGSD0sC5_FK2"
      }
    },
    {
      "cell_type": "code",
      "source": [
        "train = pd.read_csv('./abalone_train.csv', header=None, skiprows=1)\n",
        "test = pd.read_csv('./abalone_test.csv', header=None, skiprows=1)\n",
        "\n",
        "input_cnt, output_cnt= 10, 1\n",
        "train_df = np.zeros([len(train),input_cnt + output_cnt])\n",
        "test_df = np.zeros([len(test),input_cnt + output_cnt])"
      ],
      "metadata": {
        "id": "2Cnwzdt3_EfV"
      },
      "execution_count": null,
      "outputs": []
    },
    {
      "cell_type": "markdown",
      "source": [
        "### 3. 원핫인코딩"
      ],
      "metadata": {
        "id": "KhY1HD8H_Kkp"
      }
    },
    {
      "cell_type": "code",
      "source": [
        "# train data 원핫\n",
        "for index, row in train.iterrows():\n",
        "  if row[0] == 'I':\n",
        "    train_df[index, 0] = 1\n",
        "  if row[0] == 'M':\n",
        "    train_df[index, 1] = 1\n",
        "  if row[0] == 'F':\n",
        "    train_df[index, 2] = 1\n",
        "\n",
        "  train_df[:, 3:] = train.loc[:, 1:]\n",
        "\n",
        "# test data 원핫\n",
        "for index, row in test.iterrows():\n",
        "  if row[0] == 'I':\n",
        "    test_df[index, 0] = 1\n",
        "  if row[0] == 'M':\n",
        "    test_df[index, 1] = 1\n",
        "  if row[0] == 'F':\n",
        "    test_df[index, 2] = 1\n",
        "\n",
        "  test_df[:, 3:] = test.loc[:, 1:]"
      ],
      "metadata": {
        "id": "3eoZczSd_M2o"
      },
      "execution_count": null,
      "outputs": []
    },
    {
      "cell_type": "markdown",
      "source": [
        "### 4. 데이터형 변환"
      ],
      "metadata": {
        "id": "4wwDvvWx_Tsn"
      }
    },
    {
      "cell_type": "code",
      "source": [
        "# float 형으로 변환\n",
        "train_df.astype('float')\n",
        "test_df.astype('float')"
      ],
      "metadata": {
        "id": "HbRbWYk5_VtD",
        "colab": {
          "base_uri": "https://localhost:8080/"
        },
        "outputId": "a356f660-f95d-4a5c-d038-8b142ef1cdd8"
      },
      "execution_count": null,
      "outputs": [
        {
          "output_type": "execute_result",
          "data": {
            "text/plain": [
              "array([[ 0.    ,  0.    ,  1.    , ...,  0.1905,  0.289 ,  9.    ],\n",
              "       [ 0.    ,  1.    ,  0.    , ...,  0.196 ,  0.268 ,  8.    ],\n",
              "       [ 0.    ,  1.    ,  0.    , ...,  0.2635,  0.335 , 12.    ],\n",
              "       ...,\n",
              "       [ 0.    ,  1.    ,  0.    , ...,  0.3765,  0.495 , 12.    ],\n",
              "       [ 0.    ,  0.    ,  1.    , ...,  0.242 ,  0.22  ,  9.    ],\n",
              "       [ 0.    ,  1.    ,  0.    , ...,  0.24  ,  0.255 , 10.    ]])"
            ]
          },
          "metadata": {},
          "execution_count": 5
        }
      ]
    },
    {
      "cell_type": "markdown",
      "source": [
        "### 5. 데이터 자르기 "
      ],
      "metadata": {
        "id": "qBEWYjH8_X5J"
      }
    },
    {
      "cell_type": "code",
      "source": [
        "# y : 정답 \n",
        "# train_df split\n",
        "train_df_len = train_df.shape[0]\n",
        "train_X = train_df[:, 0:-1]\n",
        "train_y = train_df[:, [-1]]\n",
        "\n",
        "# test_df split\n",
        "test_df_len = test_df.shape[0]\n",
        "test_X = test_df[:, 0:-1]\n",
        "test_y = test_df[:, [-1]]"
      ],
      "metadata": {
        "id": "VYEcT6QL_aDp"
      },
      "execution_count": null,
      "outputs": []
    },
    {
      "cell_type": "markdown",
      "source": [
        "### 6. 다층 퍼셉트론 구축"
      ],
      "metadata": {
        "id": "1zcS_LBR_cII"
      }
    },
    {
      "cell_type": "code",
      "source": [
        "model = Sequential([\n",
        "                    Dense(15, input_shape=(input_cnt,), activation='relu'),\n",
        "                    Dense(output_cnt, activation='linear')\n",
        "])"
      ],
      "metadata": {
        "id": "fSf5zr6Q_rAE"
      },
      "execution_count": null,
      "outputs": []
    },
    {
      "cell_type": "markdown",
      "source": [
        "### 7. 모델 준비"
      ],
      "metadata": {
        "id": "nzYj3G9p__o-"
      }
    },
    {
      "cell_type": "code",
      "source": [
        "model.compile(optimizer = RMSprop(learning_rate=0.01), loss = mse, metrics='mean_absolute_error')"
      ],
      "metadata": {
        "id": "HSQ-u_1xAFJe"
      },
      "execution_count": null,
      "outputs": []
    },
    {
      "cell_type": "markdown",
      "source": [
        "### 8. 학습"
      ],
      "metadata": {
        "id": "3XgwtL2BAVOY"
      }
    },
    {
      "cell_type": "code",
      "source": [
        "model.fit(train_X, train_y, batch_size=1, epochs=20)"
      ],
      "metadata": {
        "id": "WkPKdC9LAYF3",
        "colab": {
          "base_uri": "https://localhost:8080/"
        },
        "outputId": "5a0d89be-e894-4b9a-cc74-94674fdbae94"
      },
      "execution_count": null,
      "outputs": [
        {
          "output_type": "stream",
          "name": "stdout",
          "text": [
            "Epoch 1/20\n",
            "3497/3497 [==============================] - 5s 1ms/step - loss: 7.6471 - mean_absolute_error: 1.9918\n",
            "Epoch 2/20\n",
            "3497/3497 [==============================] - 5s 1ms/step - loss: 5.9027 - mean_absolute_error: 1.7497\n",
            "Epoch 3/20\n",
            "3497/3497 [==============================] - 5s 1ms/step - loss: 5.6920 - mean_absolute_error: 1.7318\n",
            "Epoch 4/20\n",
            "3497/3497 [==============================] - 5s 1ms/step - loss: 5.5637 - mean_absolute_error: 1.7088\n",
            "Epoch 5/20\n",
            "3497/3497 [==============================] - 5s 1ms/step - loss: 5.5390 - mean_absolute_error: 1.6932\n",
            "Epoch 6/20\n",
            "3497/3497 [==============================] - 5s 1ms/step - loss: 5.5044 - mean_absolute_error: 1.6881\n",
            "Epoch 7/20\n",
            "3497/3497 [==============================] - 5s 1ms/step - loss: 5.4073 - mean_absolute_error: 1.6695\n",
            "Epoch 8/20\n",
            "3497/3497 [==============================] - 5s 1ms/step - loss: 5.4659 - mean_absolute_error: 1.6668\n",
            "Epoch 9/20\n",
            "3497/3497 [==============================] - 5s 1ms/step - loss: 5.4190 - mean_absolute_error: 1.6492\n",
            "Epoch 10/20\n",
            "3497/3497 [==============================] - 5s 1ms/step - loss: 5.3186 - mean_absolute_error: 1.6376\n",
            "Epoch 11/20\n",
            "3497/3497 [==============================] - 5s 1ms/step - loss: 5.3472 - mean_absolute_error: 1.6464\n",
            "Epoch 12/20\n",
            "3497/3497 [==============================] - 5s 1ms/step - loss: 5.2361 - mean_absolute_error: 1.6302\n",
            "Epoch 13/20\n",
            "3497/3497 [==============================] - 5s 1ms/step - loss: 5.2908 - mean_absolute_error: 1.6425\n",
            "Epoch 14/20\n",
            "3497/3497 [==============================] - 5s 1ms/step - loss: 5.3578 - mean_absolute_error: 1.6450\n",
            "Epoch 15/20\n",
            "3497/3497 [==============================] - 5s 1ms/step - loss: 5.3358 - mean_absolute_error: 1.6360\n",
            "Epoch 16/20\n",
            "3497/3497 [==============================] - 5s 1ms/step - loss: 5.2803 - mean_absolute_error: 1.6282\n",
            "Epoch 17/20\n",
            "3497/3497 [==============================] - 5s 1ms/step - loss: 5.2935 - mean_absolute_error: 1.6348\n",
            "Epoch 18/20\n",
            "3497/3497 [==============================] - 5s 1ms/step - loss: 5.2619 - mean_absolute_error: 1.6236\n",
            "Epoch 19/20\n",
            "3497/3497 [==============================] - 5s 1ms/step - loss: 5.2833 - mean_absolute_error: 1.6350\n",
            "Epoch 20/20\n",
            "3497/3497 [==============================] - 5s 1ms/step - loss: 5.2494 - mean_absolute_error: 1.6362\n"
          ]
        },
        {
          "output_type": "execute_result",
          "data": {
            "text/plain": [
              "<keras.callbacks.History at 0x7fc4c3796f90>"
            ]
          },
          "metadata": {},
          "execution_count": 12
        }
      ]
    },
    {
      "cell_type": "markdown",
      "source": [
        "### 9. 테스트 데이터를 통한 검증"
      ],
      "metadata": {
        "id": "cTLooKuCAp42"
      }
    },
    {
      "cell_type": "code",
      "source": [
        "test_pred = model.predict(test_X)\n",
        "diff = np.mean(np.abs(test_pred - test_y))\n",
        "\n",
        "#출력\n",
        "print(diff)"
      ],
      "metadata": {
        "id": "sHw_zSEOAs--",
        "colab": {
          "base_uri": "https://localhost:8080/"
        },
        "outputId": "30dc7513-0411-4622-8f6f-ece1b543b71b"
      },
      "execution_count": null,
      "outputs": [
        {
          "output_type": "stream",
          "name": "stdout",
          "text": [
            "1.2280207753181458\n"
          ]
        }
      ]
    }
  ]
}